{
 "cells": [
  {
   "cell_type": "code",
   "execution_count": 5,
   "id": "f8e81644",
   "metadata": {},
   "outputs": [
    {
     "ename": "SyntaxError",
     "evalue": "invalid syntax (Temp/ipykernel_17760/3463632570.py, line 8)",
     "output_type": "error",
     "traceback": [
      "\u001b[1;36m  File \u001b[1;32m\"C:\\Users\\15123\\AppData\\Local\\Temp/ipykernel_17760/3463632570.py\"\u001b[1;36m, line \u001b[1;32m8\u001b[0m\n\u001b[1;33m    else:\u001b[0m\n\u001b[1;37m    ^\u001b[0m\n\u001b[1;31mSyntaxError\u001b[0m\u001b[1;31m:\u001b[0m invalid syntax\n"
     ]
    }
   ],
   "source": [
    "Q1\n",
    "\n",
    "import random\n",
    "choices =['heads','tails']\n",
    "def count_streaks(results):\n",
    "    streaks,current_streak,current_count =0,results[0],0\n",
    "    for i in range(len(results)):\n",
    "        if results[i]== current_streak:\n",
    "            current_count+= 1\n",
    "            else:\n",
    "                if current_count>=5:\n",
    "                    streaks+=1\n",
    "                    current_streak,current_count = result[i],1#updating current\n",
    "                    return streaks\n",
    "                results =random.choices(choices,k=10000)\n",
    "print(count_streaks(results))"
   ]
  },
  {
   "cell_type": "code",
   "execution_count": 6,
   "id": "b471f6d2",
   "metadata": {},
   "outputs": [
    {
     "name": "stdout",
     "output_type": "stream",
     "text": [
      "Heads: 5051\n",
      "Tails: 4949\n"
     ]
    }
   ],
   "source": []
  },
  {
   "cell_type": "code",
   "execution_count": 7,
   "id": "df67c072",
   "metadata": {},
   "outputs": [
    {
     "ename": "SyntaxError",
     "evalue": "invalid syntax (Temp/ipykernel_17760/2159172172.py, line 3)",
     "output_type": "error",
     "traceback": [
      "\u001b[1;36m  File \u001b[1;32m\"C:\\Users\\15123\\AppData\\Local\\Temp/ipykernel_17760/2159172172.py\"\u001b[1;36m, line \u001b[1;32m3\u001b[0m\n\u001b[1;33m    items=['swords,'diamonds','gold coins','rope',potions']\u001b[0m\n\u001b[1;37m                    ^\u001b[0m\n\u001b[1;31mSyntaxError\u001b[0m\u001b[1;31m:\u001b[0m invalid syntax\n"
     ]
    }
   ],
   "source": [
    "Q2\n",
    "\n",
    "items=['swords,'diamonds','gold coins','rope',potions']\n",
    "inventory ={}\n",
    "for item in items:\n",
    "    inventory[item]=int(input(Enter the number of{}:'format(item)))\n",
    "for item,cnt in inventory.items():\n",
    "print(item,cnt)"
   ]
  },
  {
   "cell_type": "code",
   "execution_count": 10,
   "id": "cc18cfdf",
   "metadata": {},
   "outputs": [
    {
     "ename": "SyntaxError",
     "evalue": "invalid syntax (Temp/ipykernel_17760/2450052360.py, line 4)",
     "output_type": "error",
     "traceback": [
      "\u001b[1;36m  File \u001b[1;32m\"C:\\Users\\15123\\AppData\\Local\\Temp/ipykernel_17760/2450052360.py\"\u001b[1;36m, line \u001b[1;32m4\u001b[0m\n\u001b[1;33m    A =['heads,'tails']\u001b[0m\n\u001b[1;37m                ^\u001b[0m\n\u001b[1;31mSyntaxError\u001b[0m\u001b[1;31m:\u001b[0m invalid syntax\n"
     ]
    }
   ],
   "source": [
    "Q3\n",
    "\n",
    "import numpy as np\n"
   ]
  },
  {
   "cell_type": "code",
   "execution_count": 9,
   "id": "29ba71f2",
   "metadata": {},
   "outputs": [
    {
     "ename": "SyntaxError",
     "evalue": "invalid syntax (Temp/ipykernel_17760/355854793.py, line 12)",
     "output_type": "error",
     "traceback": [
      "\u001b[1;36m  File \u001b[1;32m\"C:\\Users\\15123\\AppData\\Local\\Temp/ipykernel_17760/355854793.py\"\u001b[1;36m, line \u001b[1;32m12\u001b[0m\n\u001b[1;33m    print ('Winner for the following game in player{}'format(winner))\u001b[0m\n\u001b[1;37m                                                      ^\u001b[0m\n\u001b[1;31mSyntaxError\u001b[0m\u001b[1;31m:\u001b[0m invalid syntax\n"
     ]
    }
   ],
   "source": [
    "Q4\n",
    "\n",
    "\n",
    "import random\n",
    "num_iterations,num_players =10,3\n",
    "scores =[0]*num_players#initializing scores to 0\n",
    "for i in range(num_interations):\n",
    "    #every player throws the dice\n",
    "    for player in range(num_players):\n",
    "        scores[player]+=random.randint(1,6)#adding current outcome to the score of the player\n",
    "winner =max(enumerate(scores),key=lambda scores:\n",
    "print ('Winner for the following game in player{}'format(winner))\n",
    "\n"
   ]
  },
  {
   "cell_type": "code",
   "execution_count": null,
   "id": "e14f13ef",
   "metadata": {},
   "outputs": [],
   "source": []
  }
 ],
 "metadata": {
  "kernelspec": {
   "display_name": "Python 3 (ipykernel)",
   "language": "python",
   "name": "python3"
  },
  "language_info": {
   "codemirror_mode": {
    "name": "ipython",
    "version": 3
   },
   "file_extension": ".py",
   "mimetype": "text/x-python",
   "name": "python",
   "nbconvert_exporter": "python",
   "pygments_lexer": "ipython3",
   "version": "3.9.7"
  }
 },
 "nbformat": 4,
 "nbformat_minor": 5
}
