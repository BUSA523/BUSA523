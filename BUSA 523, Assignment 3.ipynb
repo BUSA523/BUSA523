{
 "cells": [
  {
   "cell_type": "code",
   "execution_count": null,
   "id": "6f657f8d",
   "metadata": {},
   "outputs": [],
   "source": [
    "class Student:\n",
    "    def __init__(self,fname,lname,country,grade,credits,major):\n",
    "        self.fname=fname\n",
    "        self.lname=lname\n",
    "        self.country=country\n",
    "        self.grade=float(grade)\n",
    "        self.credits=int(credits)\n",
    "        self.major=major\n",
    "    def progress(self):\n",
    "        if(self.grade>3 and self.credits>20):\n",
    "        print(\"Good\")\n",
    "        elif(self.grade>2.5 or (self.credits>10 and self.credits<20)):\n",
    "        print(\"Average\")\n",
    "        elif(self.grade<2.5):\n",
    "        print(\"Bad\")\n",
    "a=Student(\"Shane\",\"Watson\",\"Australia\",4,27,\"Business Analytics\")\n",
    "a.progress()\n",
    "b=Student(\"Glenn\",\"Maxwell\",\"Australia\",2,10,\"Business Analytics\")\n",
    "b.progress()\n",
    "c=Student(\"Shane\",\"Warne\",\"Australia\",2.6,17,\"Business Analytics\")\n",
    "c.progress()"
   ]
  },
  {
   "cell_type": "code",
   "execution_count": 5,
   "id": "1992d01c",
   "metadata": {},
   "outputs": [
    {
     "ename": "IndentationError",
     "evalue": "expected an indented block (Temp/ipykernel_12964/1098378763.py, line 9)",
     "output_type": "error",
     "traceback": [
      "\u001b[1;36m  File \u001b[1;32m\"C:\\Users\\15123\\AppData\\Local\\Temp/ipykernel_12964/1098378763.py\"\u001b[1;36m, line \u001b[1;32m9\u001b[0m\n\u001b[1;33m    if i <0:\u001b[0m\n\u001b[1;37m    ^\u001b[0m\n\u001b[1;31mIndentationError\u001b[0m\u001b[1;31m:\u001b[0m expected an indented block\n"
     ]
    }
   ],
   "source": [
    "\n",
    "#User input \n",
    "myList = list(map(int, input(\"Input: \").split(\",\")))\n",
    "#Declare lists \n",
    "positive = []\n",
    "negative = []\n",
    "#Iterate through the list \n",
    "for i in myList:\n",
    "#Check if negative\n",
    "if i <0:\n",
    "#Append to negative\n",
    "negative.append(i)\n",
    "elif i>0:\n",
    "#Append to positive list\n",
    "positive.append(i)\n",
    "#Output Result\n",
    "print(\"Output:\",negative,positive)\n",
    "\n"
   ]
  },
  {
   "cell_type": "code",
   "execution_count": null,
   "id": "6ff960be",
   "metadata": {},
   "outputs": [],
   "source": [
    "\n",
    "\n",
    "# all_possibilities() function which takes number final scores of player.\n",
    "# and return list of list with two elements.\n",
    "# each sum of two elements is greater than final score number and  less than 22.\n",
    "def all_possibilities(number):\n",
    "    # empty list two store result.\n",
    "    ans = []\n",
    "    # for each i from 1 to 11.\n",
    "    for i in range(1, 12):\n",
    "        # for each j from i to 11.\n",
    "        for j in range(i, 12):\n",
    "            # if sum of i and j is between number and 22 exclusively.\n",
    "            if(number < i+j and i+j < 22):\n",
    "                # append list[i, j] to ans.\n",
    "                ans.append([i, j])\n",
    "\n",
    "    # print ans list.\n",
    "    print(\"All possibilities =\", ans)\n",
    "\n",
    "\n",
    "# asking for input final score.\n",
    "n = int(input(\"Enter Player's final score = \"))\n",
    "\n",
    "# all_possibilities() calling\n",
    "all_possibilities(n)\n",
    "\n"
   ]
  },
  {
   "cell_type": "code",
   "execution_count": null,
   "id": "2ca88468",
   "metadata": {},
   "outputs": [],
   "source": []
  },
  {
   "cell_type": "code",
   "execution_count": null,
   "id": "ef1c1ee7",
   "metadata": {},
   "outputs": [],
   "source": []
  }
 ],
 "metadata": {
  "kernelspec": {
   "display_name": "Python 3 (ipykernel)",
   "language": "python",
   "name": "python3"
  },
  "language_info": {
   "codemirror_mode": {
    "name": "ipython",
    "version": 3
   },
   "file_extension": ".py",
   "mimetype": "text/x-python",
   "name": "python",
   "nbconvert_exporter": "python",
   "pygments_lexer": "ipython3",
   "version": "3.9.7"
  }
 },
 "nbformat": 4,
 "nbformat_minor": 5
}
